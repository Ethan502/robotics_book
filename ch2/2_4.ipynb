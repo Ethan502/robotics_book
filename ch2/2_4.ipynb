{
 "cells": [
  {
   "cell_type": "code",
   "execution_count": 1,
   "metadata": {},
   "outputs": [],
   "source": [
    "from ipywidgets import interact\n",
    "import numpy as np\n",
    "import pandas as pd\n",
    "import gtsam\n",
    "\n",
    "from plotly.subplots import make_subplots\n",
    "import plotly.graph_objects as go\n",
    "import plotly.express as px\n",
    "\n",
    "import gtbook\n",
    "from gtbook.display import show\n",
    "from gtbook.discrete import Variables\n",
    "VARIABLES = Variables()\n",
    "def pretty(obj): \n",
    "    return gtbook.display.pretty(obj, VARIABLES)"
   ]
  },
  {
   "cell_type": "code",
   "execution_count": 2,
   "metadata": {},
   "outputs": [],
   "source": [
    "# Define variables here\n",
    "Conductivity = VARIABLES.binary(\"Conductivity\")\n",
    "Detection = VARIABLES.discrete(\"Detection\", [\"bottle\", \"cardboard\", \"paper\"])\n",
    "categories = [\"cardboard\", \"paper\", \"can\", \"scrap metal\", \"bottle\"]\n",
    "Category = VARIABLES.discrete(\"Category\", categories) # Not an accident that it is defined last."
   ]
  },
  {
   "cell_type": "code",
   "execution_count": 3,
   "metadata": {},
   "outputs": [],
   "source": [
    "def Gaussian(x,mu=0.0, sigma=1.0):\n",
    "    return np.exp(-0.5*(x-mu)**2/sigma**2)/np.sqrt(2*np.pi*sigma**2)\n",
    "\n",
    "#Conditional weight density, mean and standard deviation specified in grams:\n",
    "pWC = np.array([[20,10], [5, 5], [15, 5], [150, 100], [300, 200]])"
   ]
  },
  {
   "cell_type": "code",
   "execution_count": null,
   "metadata": {},
   "outputs": [],
   "source": [
    "for index, category in enumerate(categories):\n",
    "    mu, sigma = pWC[index]\n",
    "    print(f\"{category:12}:{Gaussian(50,mu,sigma):.5f}\")"
   ]
  }
 ],
 "metadata": {
  "kernelspec": {
   "display_name": "Python 3",
   "language": "python",
   "name": "python3"
  },
  "language_info": {
   "codemirror_mode": {
    "name": "ipython",
    "version": 3
   },
   "file_extension": ".py",
   "mimetype": "text/x-python",
   "name": "python",
   "nbconvert_exporter": "python",
   "pygments_lexer": "ipython3",
   "version": "3.10.12"
  }
 },
 "nbformat": 4,
 "nbformat_minor": 2
}
