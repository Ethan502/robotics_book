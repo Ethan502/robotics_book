{
 "cells": [
  {
   "cell_type": "code",
   "execution_count": 1,
   "metadata": {},
   "outputs": [],
   "source": [
    "from gtbook.discrete import Variables\n",
    "import numpy as np\n",
    "import pandas as pd\n",
    "import gtsam\n",
    "import plotly.express as px"
   ]
  },
  {
   "cell_type": "code",
   "execution_count": 2,
   "metadata": {},
   "outputs": [
    {
     "data": {
      "text/html": [
       "<div>\n",
       "<style scoped>\n",
       "    .dataframe tbody tr th:only-of-type {\n",
       "        vertical-align: middle;\n",
       "    }\n",
       "\n",
       "    .dataframe tbody tr th {\n",
       "        vertical-align: top;\n",
       "    }\n",
       "\n",
       "    .dataframe thead th {\n",
       "        text-align: right;\n",
       "    }\n",
       "</style>\n",
       "<table border=\"1\" class=\"dataframe\">\n",
       "  <thead>\n",
       "    <tr style=\"text-align: right;\">\n",
       "      <th></th>\n",
       "      <th>cardboard</th>\n",
       "      <th>paper</th>\n",
       "      <th>can</th>\n",
       "      <th>scrap metal</th>\n",
       "      <th>bottle</th>\n",
       "    </tr>\n",
       "  </thead>\n",
       "  <tbody>\n",
       "    <tr>\n",
       "      <th>glass bin</th>\n",
       "      <td>2</td>\n",
       "      <td>2</td>\n",
       "      <td>4</td>\n",
       "      <td>6</td>\n",
       "      <td>0</td>\n",
       "    </tr>\n",
       "    <tr>\n",
       "      <th>metal bin</th>\n",
       "      <td>1</td>\n",
       "      <td>1</td>\n",
       "      <td>0</td>\n",
       "      <td>0</td>\n",
       "      <td>2</td>\n",
       "    </tr>\n",
       "    <tr>\n",
       "      <th>paper bin</th>\n",
       "      <td>0</td>\n",
       "      <td>0</td>\n",
       "      <td>5</td>\n",
       "      <td>10</td>\n",
       "      <td>3</td>\n",
       "    </tr>\n",
       "    <tr>\n",
       "      <th>nop</th>\n",
       "      <td>1</td>\n",
       "      <td>1</td>\n",
       "      <td>1</td>\n",
       "      <td>1</td>\n",
       "      <td>1</td>\n",
       "    </tr>\n",
       "  </tbody>\n",
       "</table>\n",
       "</div>"
      ],
      "text/plain": [
       "           cardboard  paper  can  scrap metal  bottle\n",
       "glass bin          2      2    4            6       0\n",
       "metal bin          1      1    0            0       2\n",
       "paper bin          0      0    5           10       3\n",
       "nop                1      1    1            1       1"
      ]
     },
     "execution_count": 2,
     "metadata": {},
     "output_type": "execute_result"
    }
   ],
   "source": [
    "categories = [\"cardboard\", \"paper\", \"can\", \"scrap metal\", \"bottle\"]\n",
    "actions = [\"glass bin\", \"metal bin\", \"paper bin\", \"nop\"]\n",
    "cost = np.array([[2,  2,  4,  6,  0],\n",
    "                 [1,  1,  0,  0,  2],\n",
    "                 [0,  0,  5, 10,  3],\n",
    "                 [1,  1,  1,  1,  1]])\n",
    "pd.DataFrame(cost, index=actions, columns=categories)"
   ]
  },
  {
   "cell_type": "code",
   "execution_count": 3,
   "metadata": {},
   "outputs": [
    {
     "data": {
      "text/html": [
       "<div>\n",
       "<p>  <i>P(0):</i></p>\n",
       "<div>\n",
       "<table class='DecisionTreeFactor'>\n",
       "  <thead>\n",
       "    <tr><th>0</th><th>value</th></tr>\n",
       "  </thead>\n",
       "  <tbody>\n",
       "    <tr><th>0</th><td>0.2</td></tr>\n",
       "    <tr><th>1</th><td>0.3</td></tr>\n",
       "    <tr><th>2</th><td>0.25</td></tr>\n",
       "    <tr><th>3</th><td>0.2</td></tr>\n",
       "    <tr><th>4</th><td>0.05</td></tr>\n",
       "  </tbody>\n",
       "</table>\n",
       "</div>"
      ],
      "text/markdown": [
       " *P(0):*\n",
       "\n",
       "|0|value|\n",
       "|:-:|:-:|\n",
       "|0|0.2|\n",
       "|1|0.3|\n",
       "|2|0.25|\n",
       "|3|0.2|\n",
       "|4|0.05|\n"
      ],
      "text/plain": [
       "Discrete Prior\n",
       " P( 0 ):\n",
       " Choice(0) \n",
       " 0 Leaf  0.2\n",
       " 1 Leaf  0.3\n",
       " 2 Leaf 0.25\n",
       " 3 Leaf  0.2\n",
       " 4 Leaf 0.05\n"
      ]
     },
     "execution_count": 3,
     "metadata": {},
     "output_type": "execute_result"
    }
   ],
   "source": [
    "variables = Variables()\n",
    "Category = variables.discrete(\"Category\", categories)\n",
    "category_prior = gtsam.DiscreteDistribution(Category, \"200/300/250/200/50\")\n",
    "category_prior"
   ]
  }
 ],
 "metadata": {
  "kernelspec": {
   "display_name": "Python 3",
   "language": "python",
   "name": "python3"
  },
  "language_info": {
   "codemirror_mode": {
    "name": "ipython",
    "version": 3
   },
   "file_extension": ".py",
   "mimetype": "text/x-python",
   "name": "python",
   "nbconvert_exporter": "python",
   "pygments_lexer": "ipython3",
   "version": "3.10.12"
  }
 },
 "nbformat": 4,
 "nbformat_minor": 2
}
